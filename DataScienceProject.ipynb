{
 "cells": [
  {
   "cell_type": "markdown",
   "id": "b41966a3-7786-4d2d-8335-4b66a45aefa3",
   "metadata": {},
   "source": [
    "### Question 1 - Extracting Tesla Stock Data Using yfinance"
   ]
  },
  {
   "cell_type": "code",
   "execution_count": 3,
   "id": "878a68a7-520b-4892-af15-01f06f80f1e8",
   "metadata": {},
   "outputs": [
    {
     "name": "stdout",
     "output_type": "stream",
     "text": [
      "                               Open      High       Low     Close     Volume  \\\n",
      "Date                                                                           \n",
      "2010-06-29 00:00:00-04:00  1.266667  1.666667  1.169333  1.592667  281494500   \n",
      "2010-06-30 00:00:00-04:00  1.719333  2.028000  1.553333  1.588667  257806500   \n",
      "2010-07-01 00:00:00-04:00  1.666667  1.728000  1.351333  1.464000  123282000   \n",
      "2010-07-02 00:00:00-04:00  1.533333  1.540000  1.247333  1.280000   77097000   \n",
      "2010-07-06 00:00:00-04:00  1.333333  1.333333  1.055333  1.074000  103003500   \n",
      "\n",
      "                           Dividends  Stock Splits  \n",
      "Date                                                \n",
      "2010-06-29 00:00:00-04:00        0.0           0.0  \n",
      "2010-06-30 00:00:00-04:00        0.0           0.0  \n",
      "2010-07-01 00:00:00-04:00        0.0           0.0  \n",
      "2010-07-02 00:00:00-04:00        0.0           0.0  \n",
      "2010-07-06 00:00:00-04:00        0.0           0.0  \n"
     ]
    }
   ],
   "source": [
    "import yfinance as yf\n",
    "tesla = yf.Ticker(\"TSLA\")\n",
    "tesla_data = tesla.history(period=\"max\")\n",
    "print(tesla_data.head())\n"
   ]
  },
  {
   "cell_type": "markdown",
   "id": "c02c7bc7-c19c-409b-b114-7710b0a16d1e",
   "metadata": {},
   "source": [
    "### Question 2 - Extracting Tesla Revenue Data Using Webscraping"
   ]
  },
  {
   "cell_type": "code",
   "execution_count": 1,
   "id": "ab89d1ec-b259-4658-85a0-a8806991153e",
   "metadata": {},
   "outputs": [
    {
     "name": "stdout",
     "output_type": "stream",
     "text": [
      "   Tesla Annual Revenue (Millions of US $)  \\\n",
      "0                                     2021   \n",
      "1                                     2020   \n",
      "2                                     2019   \n",
      "3                                     2018   \n",
      "4                                     2017   \n",
      "\n",
      "  Tesla Annual Revenue (Millions of US $).1  \n",
      "0                                   $53,823  \n",
      "1                                   $31,536  \n",
      "2                                   $24,578  \n",
      "3                                   $21,461  \n",
      "4                                   $11,759  \n"
     ]
    },
    {
     "name": "stderr",
     "output_type": "stream",
     "text": [
      "C:\\Users\\manis\\AppData\\Local\\Temp\\ipykernel_87980\\2718059928.py:18: FutureWarning: Passing literal html to 'read_html' is deprecated and will be removed in a future version. To read from a literal string, wrap it in a 'StringIO' object.\n",
      "  df = pd.read_html(str(table))[0]\n"
     ]
    }
   ],
   "source": [
    "import requests\n",
    "from bs4 import BeautifulSoup\n",
    "import pandas as pd\n",
    "\n",
    "# URL of the webpage with Tesla revenue data\n",
    "url = \" https://cf-courses-data.s3.us.cloud-object-storage.appdomain.cloud/IBMDeveloperSkillsNetwork-PY0220EN-SkillsNetwork/labs/project/revenue.htm\"\n",
    "\n",
    "# Send an HTTP GET request to the URL\n",
    "response = requests.get(url)\n",
    "\n",
    "# Parse the HTML data using BeautifulSoup\n",
    "soup = BeautifulSoup(response.content, 'html.parser')\n",
    "\n",
    "# Find the first table on the page \n",
    "table = soup.find('table')\n",
    "\n",
    "# Read the table directly into a pandas DataFrame\n",
    "df = pd.read_html(str(table))[0]\n",
    "\n",
    "# Display the DataFrame\n",
    "print(df.head())"
   ]
  },
  {
   "cell_type": "markdown",
   "id": "13518565-c6e6-4364-bfc7-848f1334d167",
   "metadata": {},
   "source": [
    " ### Question 3 - Extracting GameStop Stock Data Using yfinance"
   ]
  },
  {
   "cell_type": "code",
   "execution_count": 8,
   "id": "b9f4dabc-bcec-4468-a72a-f7db00771e94",
   "metadata": {},
   "outputs": [
    {
     "name": "stdout",
     "output_type": "stream",
     "text": [
      "                               Open      High       Low     Close    Volume  \\\n",
      "Date                                                                          \n",
      "2002-02-13 00:00:00-05:00  1.620128  1.693350  1.603296  1.691667  76216000   \n",
      "2002-02-14 00:00:00-05:00  1.712707  1.716073  1.670626  1.683250  11021600   \n",
      "2002-02-15 00:00:00-05:00  1.683250  1.687458  1.658002  1.674834   8389600   \n",
      "2002-02-19 00:00:00-05:00  1.666418  1.666418  1.578047  1.607504   7410400   \n",
      "2002-02-20 00:00:00-05:00  1.615920  1.662210  1.603296  1.662210   6892800   \n",
      "\n",
      "                           Dividends  Stock Splits  \n",
      "Date                                                \n",
      "2002-02-13 00:00:00-05:00        0.0           0.0  \n",
      "2002-02-14 00:00:00-05:00        0.0           0.0  \n",
      "2002-02-15 00:00:00-05:00        0.0           0.0  \n",
      "2002-02-19 00:00:00-05:00        0.0           0.0  \n",
      "2002-02-20 00:00:00-05:00        0.0           0.0  \n"
     ]
    }
   ],
   "source": [
    "import yfinance as yf\n",
    "gme = yf.Ticker(\"GME\")\n",
    "gme_data = gme.history(period=\"max\")\n",
    "print(gme_data.head())"
   ]
  },
  {
   "cell_type": "markdown",
   "id": "5ebaf437-5123-4e00-8303-330e9b551e99",
   "metadata": {},
   "source": [
    "### Question 4 - Extracting GameStop Revenue Data Using Webscraping"
   ]
  },
  {
   "cell_type": "code",
   "execution_count": 11,
   "id": "534e28f5-f2d5-4b0f-89c4-e1859256121d",
   "metadata": {},
   "outputs": [
    {
     "name": "stdout",
     "output_type": "stream",
     "text": [
      "   GameStop Annual Revenue (Millions of US $)  \\\n",
      "0                                        2020   \n",
      "1                                        2019   \n",
      "2                                        2018   \n",
      "3                                        2017   \n",
      "4                                        2016   \n",
      "\n",
      "  GameStop Annual Revenue (Millions of US $).1  \n",
      "0                                       $6,466  \n",
      "1                                       $8,285  \n",
      "2                                       $8,547  \n",
      "3                                       $7,965  \n",
      "4                                       $9,364  \n"
     ]
    },
    {
     "name": "stderr",
     "output_type": "stream",
     "text": [
      "C:\\Users\\manis\\AppData\\Local\\Temp\\ipykernel_87980\\2052507603.py:11: FutureWarning: Passing literal html to 'read_html' is deprecated and will be removed in a future version. To read from a literal string, wrap it in a 'StringIO' object.\n",
      "  df = pd.read_html(str(table))[0]\n"
     ]
    }
   ],
   "source": [
    "import requests\n",
    "from bs4 import BeautifulSoup\n",
    "import pandas as pd\n",
    "url = \" https://cf-courses-data.s3.us.cloud-object-storage.appdomain.cloud/IBMDeveloperSkillsNetwork-PY0220EN-SkillsNetwork/labs/project/stock.html\"\n",
    "response = requests.get(url)\n",
    "if response.status_code == 200:\n",
    "    soup = BeautifulSoup(response.content, 'html.parser')\n",
    "    table = soup.find('table')  # or use more specific selectors if necessary\n",
    "    if table:\n",
    "        # Convert the table to a pandas DataFrame\n",
    "        df = pd.read_html(str(table))[0]\n",
    "        print(df.head())\n",
    "    else:\n",
    "        print(\"No table found on the page.\")\n",
    "else:\n",
    "    print(f\"Failed to retrieve the webpage. Status code: {response.status_code}\")"
   ]
  },
  {
   "cell_type": "markdown",
   "id": "22832b68-ca70-4b66-9390-9691783ebfa5",
   "metadata": {},
   "source": [
    "### Question 5 - Tesla Stock and Revenue Dashboard\n"
   ]
  },
  {
   "cell_type": "code",
   "execution_count": 21,
   "id": "bba9392b-15d7-4f21-a152-d7fd5c9d5328",
   "metadata": {},
   "outputs": [
    {
     "name": "stderr",
     "output_type": "stream",
     "text": [
      "C:\\Users\\manis\\anaconda3\\Lib\\html\\parser.py:171: XMLParsedAsHTMLWarning:\n",
      "\n",
      "It looks like you're parsing an XML document using an HTML parser. If this really is an HTML document (maybe it's XHTML?), you can ignore or filter this warning. If it's XML, you should know that using an XML parser will be more reliable. To parse this document as XML, make sure you have the lxml package installed, and pass the keyword argument `features=\"xml\"` into the BeautifulSoup constructor.\n",
      "\n"
     ]
    },
    {
     "data": {
      "text/html": [
       "\n",
       "        <iframe\n",
       "            width=\"100%\"\n",
       "            height=\"650\"\n",
       "            src=\"http://127.0.0.1:8050/\"\n",
       "            frameborder=\"0\"\n",
       "            allowfullscreen\n",
       "            \n",
       "        ></iframe>\n",
       "        "
      ],
      "text/plain": [
       "<IPython.lib.display.IFrame at 0x1f80f3aed80>"
      ]
     },
     "metadata": {},
     "output_type": "display_data"
    }
   ],
   "source": [
    "import yfinance as yf\n",
    "import pandas as pd\n",
    "import requests\n",
    "from bs4 import BeautifulSoup\n",
    "from io import StringIO\n",
    "import plotly.graph_objs as go\n",
    "from dash import Dash, dcc, html\n",
    "\n",
    "\n",
    "tesla = yf.Ticker(\"TSLA\")\n",
    "tesla_stock_data = tesla.history(period=\"1y\").reset_index()\n",
    "\n",
    "\n",
    "url = \" https://cf-courses-data.s3.us.cloud-object-storage.appdomain.cloud/IBMDeveloperSkillsNetwork-PY0220EN-SkillsNetwork/labs/project/revenue.html\"\n",
    "response = requests.get(url)\n",
    "soup = BeautifulSoup(response.content, 'html.parser')\n",
    "table = soup.find('table')\n",
    "\n",
    "if table:\n",
    " \n",
    "    table_html = str(table)\n",
    "    table_df = pd.read_html(StringIO(table_html))[0]\n",
    "    \n",
    "    \n",
    "    print(\"Columns found in revenue data:\", table_df.columns)\n",
    "    \n",
    "    \n",
    "    table_df.columns = table_df.columns.str.strip()\n",
    "    \n",
    "   \n",
    "    if 'Date' in table_df.columns and 'Revenue' in table_df.columns:\n",
    "        # Process the DataFrame\n",
    "        table_df['Date'] = pd.to_datetime(table_df['Date'], errors='coerce')\n",
    "        table_df.set_index('Date', inplace=True)\n",
    "        revenue_data = table_df\n",
    "    else:\n",
    "        revenue_data = pd.DataFrame(columns=['Date', 'Revenue'])  # Empty DataFrame if columns are missing\n",
    "else:\n",
    "    revenue_data = pd.DataFrame(columns=['Date', 'Revenue'])  # Empty DataFrame if table not found\n",
    "\n",
    "\n",
    "stock_fig = go.Figure()\n",
    "stock_fig.add_trace(go.Scatter(x=tesla_stock_data['Date'], y=tesla_stock_data['Close'], mode='lines', name='Closing Price'))\n",
    "stock_fig.update_layout(title='Tesla Stock Price', xaxis_title='Date', yaxis_title='Price (USD)')\n",
    "\n",
    "\n",
    "revenue_fig = go.Figure()\n",
    "if not revenue_data.empty:\n",
    "    revenue_fig.add_trace(go.Bar(x=revenue_data.index, y=revenue_data['Revenue'], name='Revenue'))\n",
    "    revenue_fig.update_layout(title='Tesla Revenue', xaxis_title='Date', yaxis_title='Revenue (USD)')\n",
    "else:\n",
    "    revenue_fig.update_layout(title='Tesla Revenue', xaxis_title='Date', yaxis_title='Revenue (USD)')\n",
    "    revenue_fig.add_trace(go.Bar(x=[], y=[], name='Revenue'))\n",
    "\n",
    "\n",
    "app = Dash(__name__)\n",
    "\n",
    "\n",
    "app.layout = html.Div([\n",
    "    html.H1(\"Tesla Stock and Revenue Dashboard\"),\n",
    "    \n",
    "    html.Div([\n",
    "        html.H2(\"Tesla Stock Price\"),\n",
    "        dcc.Graph(figure=stock_fig)\n",
    "    ]),\n",
    "    \n",
    "    html.Div([\n",
    "        html.H2(\"Tesla Revenue\"),\n",
    "        dcc.Graph(figure=revenue_fig)\n",
    "    ])\n",
    "])\n",
    "\n",
    "\n",
    "if __name__ == '__main__':\n",
    "    app.run_server(debug=True)\n",
    "\n"
   ]
  },
  {
   "cell_type": "markdown",
   "id": "e21904b2-3209-401f-af3e-d9464b480418",
   "metadata": {},
   "source": [
    "### Question 6 - GameStop Stock and Revenue Dashboard"
   ]
  },
  {
   "cell_type": "code",
   "execution_count": 23,
   "id": "5775cd36-6460-4cde-b656-dc329654d06b",
   "metadata": {},
   "outputs": [
    {
     "name": "stdout",
     "output_type": "stream",
     "text": [
      "Columns found in revenue data: Index(['GameStop Annual Revenue (Millions of US $)', 'GameStop Annual Revenue (Millions of US $).1'], dtype='object')\n"
     ]
    },
    {
     "data": {
      "text/html": [
       "\n",
       "        <iframe\n",
       "            width=\"100%\"\n",
       "            height=\"650\"\n",
       "            src=\"http://127.0.0.1:8050/\"\n",
       "            frameborder=\"0\"\n",
       "            allowfullscreen\n",
       "            \n",
       "        ></iframe>\n",
       "        "
      ],
      "text/plain": [
       "<IPython.lib.display.IFrame at 0x1f80f1a1850>"
      ]
     },
     "metadata": {},
     "output_type": "display_data"
    }
   ],
   "source": [
    "import yfinance as yf\n",
    "import pandas as pd\n",
    "import requests\n",
    "from bs4 import BeautifulSoup\n",
    "from io import StringIO\n",
    "import plotly.graph_objs as go\n",
    "from dash import Dash, dcc, html\n",
    "\n",
    "# Fetch GameStop stock data\n",
    "gme = yf.Ticker(\"GME\")\n",
    "gme_stock_data = gme.history(period=\"1y\").reset_index()\n",
    "\n",
    "# Fetch revenue data (Replace with actual URL)\n",
    "url =\" https://cf-courses-data.s3.us.cloud-object-storage.appdomain.cloud/IBMDeveloperSkillsNetwork-PY0220EN-SkillsNetwork/labs/project/stock.html\"\n",
    "response = requests.get(url)\n",
    "soup = BeautifulSoup(response.content, 'html.parser')\n",
    "table = soup.find('table')\n",
    "\n",
    "if table:\n",
    "    # Convert the HTML table to a DataFrame\n",
    "    table_html = str(table)\n",
    "    table_df = pd.read_html(StringIO(table_html))[0]\n",
    "    \n",
    "    # Inspect column names\n",
    "    print(\"Columns found in revenue data:\", table_df.columns)\n",
    "    \n",
    "    # Ensure column names are stripped of any extra spaces\n",
    "    table_df.columns = table_df.columns.str.strip()\n",
    "    \n",
    "    # Check if the required columns exist\n",
    "    if 'Date' in table_df.columns and 'Revenue' in table_df.columns:\n",
    "        # Process the DataFrame\n",
    "        table_df['Date'] = pd.to_datetime(table_df['Date'], errors='coerce')\n",
    "        table_df.set_index('Date', inplace=True)\n",
    "        revenue_data = table_df\n",
    "    else:\n",
    "        revenue_data = pd.DataFrame(columns=['Date', 'Revenue'])  # Empty DataFrame if columns are missing\n",
    "else:\n",
    "    revenue_data = pd.DataFrame(columns=['Date', 'Revenue'])  # Empty DataFrame if table not found\n",
    "\n",
    "# Create stock price plot\n",
    "stock_fig = go.Figure()\n",
    "stock_fig.add_trace(go.Scatter(x=gme_stock_data['Date'], y=gme_stock_data['Close'], mode='lines', name='Closing Price'))\n",
    "stock_fig.update_layout(title='GameStop Stock Price', xaxis_title='Date', yaxis_title='Price (USD)')\n",
    "\n",
    "# Create revenue plot\n",
    "revenue_fig = go.Figure()\n",
    "if not revenue_data.empty:\n",
    "    revenue_fig.add_trace(go.Bar(x=revenue_data.index, y=revenue_data['Revenue'], name='Revenue'))\n",
    "    revenue_fig.update_layout(title='GameStop Revenue', xaxis_title='Date', yaxis_title='Revenue (USD)')\n",
    "else:\n",
    "    revenue_fig.update_layout(title='GameStop Revenue', xaxis_title='Date', yaxis_title='Revenue (USD)')\n",
    "    revenue_fig.add_trace(go.Bar(x=[], y=[], name='Revenue'))\n",
    "\n",
    "# Initialize the Dash app\n",
    "app = Dash(__name__)\n",
    "\n",
    "# Define the layout of the dashboard\n",
    "app.layout = html.Div([\n",
    "    html.H1(\"GameStop Stock and Revenue Dashboard\"),\n",
    "    \n",
    "    html.Div([\n",
    "        html.H2(\"GameStop Stock Price\"),\n",
    "        dcc.Graph(figure=stock_fig)\n",
    "    ]),\n",
    "    \n",
    "    html.Div([\n",
    "        html.H2(\"GameStop Revenue\"),\n",
    "        dcc.Graph(figure=revenue_fig)\n",
    "    ])\n",
    "])\n",
    "\n",
    "# Run the app\n",
    "if __name__ == '__main__':\n",
    "    app.run_server(debug=True)\n"
   ]
  },
  {
   "cell_type": "code",
   "execution_count": null,
   "id": "2b8490d3-30d2-4dd6-b008-4d3cd765f708",
   "metadata": {},
   "outputs": [],
   "source": []
  }
 ],
 "metadata": {
  "kernelspec": {
   "display_name": "Python 3 (ipykernel)",
   "language": "python",
   "name": "python3"
  },
  "language_info": {
   "codemirror_mode": {
    "name": "ipython",
    "version": 3
   },
   "file_extension": ".py",
   "mimetype": "text/x-python",
   "name": "python",
   "nbconvert_exporter": "python",
   "pygments_lexer": "ipython3",
   "version": "3.12.4"
  }
 },
 "nbformat": 4,
 "nbformat_minor": 5
}
